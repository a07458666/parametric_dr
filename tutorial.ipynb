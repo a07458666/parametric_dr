{
 "cells": [
  {
   "cell_type": "markdown",
   "metadata": {},
   "source": [
    "# Tutorial"
   ]
  },
  {
   "cell_type": "code",
   "execution_count": 2,
   "metadata": {},
   "outputs": [],
   "source": [
    "import numpy as np\n",
    "import torch\n",
    "from parametric_dr.tsne_nn import TSNE_NN\n",
    "from parametric_dr.largevis_nn import LARGEVIS_NN\n",
    "from parametric_dr.umap_nn import UMAP_NN\n",
    "\n",
    "device = torch.device('cuda' if torch.cuda.is_available() else 'cpu')\n",
    "epochs = 100\n",
    "batch_size = 256\n",
    "verbose = True"
   ]
  },
  {
   "cell_type": "markdown",
   "metadata": {},
   "source": [
    "### TSNE_NN"
   ]
  },
  {
   "cell_type": "code",
   "execution_count": 3,
   "metadata": {},
   "outputs": [
    {
     "name": "stdout",
     "output_type": "stream",
     "text": [
      "perplexity: 15\n",
      "calc P\n",
      "Trying to put X into GPU\n",
      "optimizing...\n"
     ]
    },
    {
     "name": "stderr",
     "output_type": "stream",
     "text": [
      "Processing epoch 100/100 loss : 2.98586 time : 0.00660s: 100%|██████████| 100/100 [00:01<00:00, 68.40it/s]"
     ]
    },
    {
     "name": "stdout",
     "output_type": "stream",
     "text": [
      "X shape : (512, 128) \n",
      "X_embedded shape :  (512, 2)\n"
     ]
    },
    {
     "name": "stderr",
     "output_type": "stream",
     "text": [
      "\n"
     ]
    }
   ],
   "source": [
    "X = np.random.rand(512, 128)\n",
    "X_embedded = TSNE_NN(device, n_epochs=epochs, verbose = verbose, batch_size=batch_size).fit(X)\n",
    "print(\"X shape :\", X.shape, \"\\nX_embedded shape : \", X_embedded.shape)"
   ]
  },
  {
   "cell_type": "markdown",
   "metadata": {},
   "source": [
    "### UMAP_NN"
   ]
  },
  {
   "cell_type": "code",
   "execution_count": 4,
   "metadata": {},
   "outputs": [
    {
     "name": "stdout",
     "output_type": "stream",
     "text": [
      "Device: cuda\n",
      "a: 1.576943460405378 b: 0.8950608781227859\n",
      "calc V\n",
      "Make Graph\n",
      "Trying to put X into GPU\n",
      "optimizing...\n"
     ]
    },
    {
     "name": "stderr",
     "output_type": "stream",
     "text": [
      "Processing epoch 100/100 loss : 0.54348 time : 0.00926s: 100%|██████████| 99/99 [00:18<00:00,  5.25it/s]"
     ]
    },
    {
     "name": "stdout",
     "output_type": "stream",
     "text": [
      "X shape : (512, 128) \n",
      "X_embedded shape :  (512, 2)\n"
     ]
    },
    {
     "name": "stderr",
     "output_type": "stream",
     "text": [
      "\n"
     ]
    }
   ],
   "source": [
    "X = np.random.rand(512, 128)\n",
    "X_embedded = UMAP_NN(device, n_epochs=epochs, batch_size=batch_size).fit(X)\n",
    "print(\"X shape :\", X.shape, \"\\nX_embedded shape : \", X_embedded.shape)"
   ]
  },
  {
   "cell_type": "markdown",
   "metadata": {},
   "source": [
    "### LARGEVIS_NN"
   ]
  },
  {
   "cell_type": "code",
   "execution_count": 5,
   "metadata": {},
   "outputs": [
    {
     "name": "stdout",
     "output_type": "stream",
     "text": [
      "calc P\n",
      "Make Graph\n",
      "Trying to put X into GPU\n",
      "optimizing...\n"
     ]
    },
    {
     "name": "stderr",
     "output_type": "stream",
     "text": [
      "Processing epoch 100/100 loss : 10.41809 time : 0.00845s: 100%|██████████| 99/99 [00:07<00:00, 13.65it/s]"
     ]
    },
    {
     "name": "stdout",
     "output_type": "stream",
     "text": [
      "X shape : (512, 128) \n",
      "X_embedded shape :  (512, 2)\n"
     ]
    },
    {
     "name": "stderr",
     "output_type": "stream",
     "text": [
      "\n"
     ]
    }
   ],
   "source": [
    "X = np.random.rand(512, 128)\n",
    "X_embedded = LARGEVIS_NN(device, n_epochs=epochs, batch_size=batch_size).fit(X)\n",
    "print(\"X shape :\", X.shape, \"\\nX_embedded shape : \", X_embedded.shape)"
   ]
  }
 ],
 "metadata": {
  "kernelspec": {
   "display_name": "Python 3",
   "language": "python",
   "name": "python3"
  },
  "language_info": {
   "codemirror_mode": {
    "name": "ipython",
    "version": 3
   },
   "file_extension": ".py",
   "mimetype": "text/x-python",
   "name": "python",
   "nbconvert_exporter": "python",
   "pygments_lexer": "ipython3",
   "version": "3.7.7"
  }
 },
 "nbformat": 4,
 "nbformat_minor": 4
}
